{
 "cells": [
  {
   "cell_type": "markdown",
   "metadata": {},
   "source": [
    "##  Process Phase(Data Cleaning)\n",
    "The \"Process\" phase is where the data collected are being processed, this includes connecting the data sources, cleaning the data, filtering and choosing the data, calculating the confidence level of the data etc.\n",
    "\n",
    "Deliverable: **documentation of any cleaning or manipulation of data**.\n",
    "\n",
    "### 1 . Documentation of data cleaning and manipulation\n",
    "I will be using **Pandas** for the data cleaning and manipulations. \n",
    "The actions that I carried out are as follows:\n",
    "\n",
    "1. Since the data for each month are in a seperate file, I import each file individually.\n",
    "2. Then I merge these files into one data frame which enable me to analyze them in term of the year 2023 December to 2024 November.\n",
    "3. Identify the columns and type of each column of the data frame.\n",
    "4. Check for null values.\n",
    "    - Drop the null values (if any), and reconfirm that there are no longer null values\n",
    "5. Delete the columns that are not necessary.\n",
    "6. Check for duplicates.\n",
    "    - Drop the duplicated values (if any), and reconfirm that there are no longer duplicated values\n",
    "7. Modify the data type of certain column.\n",
    "    - Convert _**started_at**_ column and _**ended_at**_ column from  \"object\" to \"datetime64\"\n",
    "    - To **extract the hour, day, month and date** to form new columns based on them\n",
    "    - To calculate the **ride duration**\n",
    "8. Check the order of the day, month.\n",
    "9. Create a new column _**ride_duration**_ that calculates the duration of each ride.\n",
    "    - Express the ride duration in terms of only **minutes** , and not **minutes and seconds**\n",
    "    - Check whether there are **negative values** for the ride duration which would be illogical\n",
    "    - Remove the rows that have negative values\n",
    "10. Export the file of the cleaned data."
   ]
  },
  {
   "cell_type": "markdown",
   "metadata": {},
   "source": [
    "### 1.1 Read each csv file individually"
   ]
  },
  {
   "cell_type": "code",
   "execution_count": null,
   "metadata": {},
   "outputs": [
    {
     "name": "stdout",
     "output_type": "stream",
     "text": [
      "Defaulting to user installation because normal site-packages is not writeable\n",
      "Requirement already satisfied: pandas in c:\\users\\mk\\appdata\\local\\packages\\pythonsoftwarefoundation.python.3.12_qbz5n2kfra8p0\\localcache\\local-packages\\python312\\site-packages (2.2.3)\n",
      "Requirement already satisfied: numpy>=1.26.0 in c:\\users\\mk\\appdata\\local\\packages\\pythonsoftwarefoundation.python.3.12_qbz5n2kfra8p0\\localcache\\local-packages\\python312\\site-packages (from pandas) (2.1.3)\n",
      "Requirement already satisfied: python-dateutil>=2.8.2 in c:\\users\\mk\\appdata\\local\\packages\\pythonsoftwarefoundation.python.3.12_qbz5n2kfra8p0\\localcache\\local-packages\\python312\\site-packages (from pandas) (2.9.0.post0)\n",
      "Requirement already satisfied: pytz>=2020.1 in c:\\users\\mk\\appdata\\local\\packages\\pythonsoftwarefoundation.python.3.12_qbz5n2kfra8p0\\localcache\\local-packages\\python312\\site-packages (from pandas) (2024.2)\n",
      "Requirement already satisfied: tzdata>=2022.7 in c:\\users\\mk\\appdata\\local\\packages\\pythonsoftwarefoundation.python.3.12_qbz5n2kfra8p0\\localcache\\local-packages\\python312\\site-packages (from pandas) (2024.2)\n",
      "Requirement already satisfied: six>=1.5 in c:\\users\\mk\\appdata\\local\\packages\\pythonsoftwarefoundation.python.3.12_qbz5n2kfra8p0\\localcache\\local-packages\\python312\\site-packages (from python-dateutil>=2.8.2->pandas) (1.17.0)\n",
      "Note: you may need to restart the kernel to use updated packages.\n"
     ]
    }
   ],
   "source": [
    "%pip install pandas\n"
   ]
  },
  {
   "cell_type": "code",
   "execution_count": null,
   "metadata": {},
   "outputs": [],
   "source": [
    "import pandas as pd"
   ]
  },
  {
   "cell_type": "code",
   "execution_count": null,
   "metadata": {},
   "outputs": [],
   "source": [
    "####Read the each file seprately and then merge them together\n",
    "dec_23=pd.read_csv('D:/Google-Data-Analytics-Case-Study-Python-main/case_study/202312-divvy-tripdata.csv')\n",
    "jan_24=pd.read_csv('D:/Google-Data-Analytics-Case-Study-Python-main/case_study/202401-divvy-tripdata.csv')\n",
    "feb_24=pd.read_csv('D:/Google-Data-Analytics-Case-Study-Python-main/case_study/202402-divvy-tripdata.csv')\n",
    "march_24=pd.read_csv('D:/Google-Data-Analytics-Case-Study-Python-main/case_study/202403-divvy-tripdata.csv')\n",
    "april_24=pd.read_csv('D:/Google-Data-Analytics-Case-Study-Python-main/case_study/202404-divvy-tripdata.csv')\n",
    "may_24=pd.read_csv('D:/Google-Data-Analytics-Case-Study-Python-main/case_study/202405-divvy-tripdata.csv')\n",
    "june_24=pd.read_csv('D:/Google-Data-Analytics-Case-Study-Python-main/case_study/202406-divvy-tripdata.csv')\n",
    "july_24=pd.read_csv('D:/Google-Data-Analytics-Case-Study-Python-main/case_study/202407-divvy-tripdata.csv')\n",
    "aug_24=pd.read_csv('D:/Google-Data-Analytics-Case-Study-Python-main/case_study/202408-divvy-tripdata.csv')\n",
    "sep_24=pd.read_csv('D:/Google-Data-Analytics-Case-Study-Python-main/case_study/202409-divvy-tripdata.csv')\n",
    "oct_24=pd.read_csv('D:/Google-Data-Analytics-Case-Study-Python-main/case_study/202410-divvy-tripdata.csv')\n",
    "nov_24=pd.read_csv('D:/Google-Data-Analytics-Case-Study-Python-main/case_study/202411-divvy-tripdata.csv')\n",
    "\n",
    "#Merging all the data together\n",
    "df=pd.concat([dec_23,jan_24,feb_24,march_24,april_24,may_24,june_24,july_24,aug_24,sep_24,oct_24,nov_24],ignore_index=True)\n"
   ]
  },
  {
   "cell_type": "code",
   "execution_count": null,
   "metadata": {},
   "outputs": [
    {
     "name": "stdout",
     "output_type": "stream",
     "text": [
      "<class 'pandas.core.frame.DataFrame'>\n",
      "RangeIndex: 5906269 entries, 0 to 5906268\n",
      "Data columns (total 13 columns):\n",
      " #   Column              Dtype  \n",
      "---  ------              -----  \n",
      " 0   ride_id             object \n",
      " 1   rideable_type       object \n",
      " 2   started_at          object \n",
      " 3   ended_at            object \n",
      " 4   start_station_name  object \n",
      " 5   start_station_id    object \n",
      " 6   end_station_name    object \n",
      " 7   end_station_id      object \n",
      " 8   start_lat           float64\n",
      " 9   start_lng           float64\n",
      " 10  end_lat             float64\n",
      " 11  end_lng             float64\n",
      " 12  member_casual       object \n",
      "dtypes: float64(4), object(9)\n",
      "memory usage: 585.8+ MB\n"
     ]
    }
   ],
   "source": [
    "### Identify the respective coloumns and their data types\n",
    "df.info()\n"
   ]
  },
  {
   "cell_type": "markdown",
   "metadata": {},
   "source": [
    "#### From this we can see that there are totally 12 coloumns and 4 coloums have a float64 has datatype nad remaining have object  has datatype\n",
    "\n",
    "### 1.2 Checking for null values"
   ]
  },
  {
   "cell_type": "code",
   "execution_count": null,
   "metadata": {},
   "outputs": [
    {
     "data": {
      "text/plain": [
       "ride_id                     0\n",
       "rideable_type               0\n",
       "started_at                  0\n",
       "ended_at                    0\n",
       "start_station_name    1080470\n",
       "start_station_id      1080470\n",
       "end_station_name      1111801\n",
       "end_station_id        1111801\n",
       "start_lat                   0\n",
       "start_lng                   0\n",
       "end_lat                  7340\n",
       "end_lng                  7340\n",
       "member_casual               0\n",
       "dtype: int64"
      ]
     },
     "metadata": {},
     "output_type": "display_data"
    }
   ],
   "source": [
    "df.isnull().sum()"
   ]
  },
  {
   "cell_type": "markdown",
   "metadata": {},
   "source": [
    "We can see around 70K null values for some colums.These null values are the main obstacles while Data analysis.\n",
    "Just remove those null values from our data"
   ]
  },
  {
   "cell_type": "code",
   "execution_count": null,
   "metadata": {},
   "outputs": [
    {
     "data": {
      "text/plain": [
       "ride_id               0\n",
       "rideable_type         0\n",
       "started_at            0\n",
       "ended_at              0\n",
       "start_station_name    0\n",
       "start_station_id      0\n",
       "end_station_name      0\n",
       "end_station_id        0\n",
       "start_lat             0\n",
       "start_lng             0\n",
       "end_lat               0\n",
       "end_lng               0\n",
       "member_casual         0\n",
       "dtype: int64"
      ]
     },
     "metadata": {},
     "output_type": "display_data"
    }
   ],
   "source": [
    "df.dropna(inplace=True)\n",
    "df.isnull().sum()"
   ]
  },
  {
   "cell_type": "markdown",
   "metadata": {},
   "source": [
    "### 1.3 Deleting coloums that are unnecessary"
   ]
  },
  {
   "cell_type": "code",
   "execution_count": null,
   "metadata": {},
   "outputs": [
    {
     "name": "stdout",
     "output_type": "stream",
     "text": [
      "<class 'pandas.core.frame.DataFrame'>\n",
      "Index: 4244722 entries, 189 to 5906268\n",
      "Data columns (total 5 columns):\n",
      " #   Column         Dtype \n",
      "---  ------         ----- \n",
      " 0   ride_id        object\n",
      " 1   rideable_type  object\n",
      " 2   started_at     object\n",
      " 3   ended_at       object\n",
      " 4   member_casual  object\n",
      "dtypes: object(5)\n",
      "memory usage: 194.3+ MB\n"
     ]
    }
   ],
   "source": [
    "df = df.drop(['start_station_name', 'start_station_id', 'end_station_name', 'end_station_id',\n",
    "             'start_lat', 'start_lng', 'end_lat', 'end_lng'], axis=1)\n",
    "\n",
    "df.info()"
   ]
  },
  {
   "cell_type": "markdown",
   "metadata": {},
   "source": [
    "### 1.4 Checking for Duplicated values"
   ]
  },
  {
   "cell_type": "code",
   "execution_count": null,
   "metadata": {},
   "outputs": [
    {
     "data": {
      "text/plain": [
       "np.int64(0)"
      ]
     },
     "metadata": {},
     "output_type": "display_data"
    }
   ],
   "source": [
    "df.duplicated().sum()"
   ]
  },
  {
   "cell_type": "markdown",
   "metadata": {},
   "source": [
    "We are all good to go since there are no duplicated values, if there are, we should drop them too."
   ]
  },
  {
   "cell_type": "markdown",
   "metadata": {},
   "source": [
    "### 1.5 Changing the Datatype"
   ]
  },
  {
   "cell_type": "markdown",
   "metadata": {},
   "source": [
    "We will be converting the column type for two columns, __**started_at**__ column and __**ended_at**__ column from the data type **\"object\"** to the data type **\"datetime64\"**\n",
    "\n",
    "There are 2 reasons for this:\n",
    "- To **extract the hour, day, month and date** to form new columns based on them\n",
    "- To calculate the **ride duration**"
   ]
  },
  {
   "cell_type": "code",
   "execution_count": null,
   "metadata": {},
   "outputs": [
    {
     "name": "stdout",
     "output_type": "stream",
     "text": [
      "<class 'pandas.core.frame.DataFrame'>\n",
      "Index: 4244722 entries, 189 to 5906268\n",
      "Data columns (total 5 columns):\n",
      " #   Column         Dtype \n",
      "---  ------         ----- \n",
      " 0   ride_id        object\n",
      " 1   rideable_type  object\n",
      " 2   started_at     object\n",
      " 3   ended_at       object\n",
      " 4   member_casual  object\n",
      "dtypes: object(5)\n",
      "memory usage: 194.3+ MB\n"
     ]
    }
   ],
   "source": [
    "# To chech the current data types of the columns\n",
    "df.info()"
   ]
  },
  {
   "cell_type": "markdown",
   "metadata": {},
   "source": [
    "Now to calculate travel duration, we are converting the started_at and ended _at from  **Object** to **DateTime64**, a date dataframe type."
   ]
  },
  {
   "cell_type": "code",
   "execution_count": null,
   "metadata": {},
   "outputs": [
    {
     "name": "stdout",
     "output_type": "stream",
     "text": [
      "<class 'pandas.core.frame.DataFrame'>\n",
      "Index: 4244722 entries, 189 to 5906268\n",
      "Data columns (total 5 columns):\n",
      " #   Column         Dtype         \n",
      "---  ------         -----         \n",
      " 0   ride_id        object        \n",
      " 1   rideable_type  object        \n",
      " 2   started_at     datetime64[ns]\n",
      " 3   ended_at       datetime64[ns]\n",
      " 4   member_casual  object        \n",
      "dtypes: datetime64[ns](2), object(3)\n",
      "memory usage: 194.3+ MB\n"
     ]
    }
   ],
   "source": [
    "df[\"started_at\"] = df[\"started_at\"].astype('datetime64[ns]')\n",
    "df[\"ended_at\"] = df[\"ended_at\"].astype('datetime64[ns]')\n",
    "\n",
    "# To check the updated data type\n",
    "df.info() "
   ]
  },
  {
   "cell_type": "markdown",
   "metadata": {},
   "source": [
    "The `[ns]` in `datetime64[ns]` specifies the precision of the datetime values in a pandas DataFrame or Series. Here, `ns` stands for nanoseconds, which is the highest precision available for datetime objects in pandas.\n",
    "\n",
    "When you see `datetime64[ns]`, it means that the datetime values are stored with nanosecond precision. This is useful for applications that require very high precision for time data, such as financial data analysis or scientific experiments\n"
   ]
  },
  {
   "cell_type": "markdown",
   "metadata": {},
   "source": [
    "### 1.6 Create new columns that specify the hour, the day, the month, the year of each ride. \n"
   ]
  },
  {
   "cell_type": "code",
   "execution_count": null,
   "metadata": {},
   "outputs": [
    {
     "data": {
      "text/html": [
       "<div>\n",
       "<style scoped>\n",
       "    .dataframe tbody tr th:only-of-type {\n",
       "        vertical-align: middle;\n",
       "    }\n",
       "\n",
       "    .dataframe tbody tr th {\n",
       "        vertical-align: top;\n",
       "    }\n",
       "\n",
       "    .dataframe thead th {\n",
       "        text-align: right;\n",
       "    }\n",
       "</style>\n",
       "<table border=\"1\" class=\"dataframe\">\n",
       "  <thead>\n",
       "    <tr style=\"text-align: right;\">\n",
       "      <th></th>\n",
       "      <th>ride_id</th>\n",
       "      <th>rideable_type</th>\n",
       "      <th>started_at</th>\n",
       "      <th>ended_at</th>\n",
       "      <th>member_casual</th>\n",
       "      <th>hour</th>\n",
       "      <th>day</th>\n",
       "      <th>date</th>\n",
       "      <th>month</th>\n",
       "      <th>year</th>\n",
       "    </tr>\n",
       "  </thead>\n",
       "  <tbody>\n",
       "    <tr>\n",
       "      <th>189</th>\n",
       "      <td>84BFC1F137684EAB</td>\n",
       "      <td>classic_bike</td>\n",
       "      <td>2023-12-02 23:12:51</td>\n",
       "      <td>2023-12-02 23:21:01</td>\n",
       "      <td>member</td>\n",
       "      <td>23</td>\n",
       "      <td>Saturday</td>\n",
       "      <td>2</td>\n",
       "      <td>December</td>\n",
       "      <td>2023</td>\n",
       "    </tr>\n",
       "    <tr>\n",
       "      <th>996</th>\n",
       "      <td>EEC92D30A70471E5</td>\n",
       "      <td>classic_bike</td>\n",
       "      <td>2023-12-14 13:43:14</td>\n",
       "      <td>2023-12-14 13:44:14</td>\n",
       "      <td>casual</td>\n",
       "      <td>13</td>\n",
       "      <td>Thursday</td>\n",
       "      <td>14</td>\n",
       "      <td>December</td>\n",
       "      <td>2023</td>\n",
       "    </tr>\n",
       "    <tr>\n",
       "      <th>1322</th>\n",
       "      <td>1C33464DEEB1F23C</td>\n",
       "      <td>electric_bike</td>\n",
       "      <td>2023-12-04 11:57:04</td>\n",
       "      <td>2023-12-04 12:13:59</td>\n",
       "      <td>casual</td>\n",
       "      <td>11</td>\n",
       "      <td>Monday</td>\n",
       "      <td>4</td>\n",
       "      <td>December</td>\n",
       "      <td>2023</td>\n",
       "    </tr>\n",
       "    <tr>\n",
       "      <th>1347</th>\n",
       "      <td>E0A61810C305E5EC</td>\n",
       "      <td>classic_bike</td>\n",
       "      <td>2023-12-04 09:34:22</td>\n",
       "      <td>2023-12-04 09:35:56</td>\n",
       "      <td>casual</td>\n",
       "      <td>9</td>\n",
       "      <td>Monday</td>\n",
       "      <td>4</td>\n",
       "      <td>December</td>\n",
       "      <td>2023</td>\n",
       "    </tr>\n",
       "    <tr>\n",
       "      <th>1348</th>\n",
       "      <td>0706CEB2E1924F3D</td>\n",
       "      <td>classic_bike</td>\n",
       "      <td>2023-12-04 09:36:27</td>\n",
       "      <td>2023-12-04 09:36:40</td>\n",
       "      <td>casual</td>\n",
       "      <td>9</td>\n",
       "      <td>Monday</td>\n",
       "      <td>4</td>\n",
       "      <td>December</td>\n",
       "      <td>2023</td>\n",
       "    </tr>\n",
       "  </tbody>\n",
       "</table>\n",
       "</div>"
      ],
      "text/plain": [
       "               ride_id  rideable_type          started_at            ended_at  \\\n",
       "189   84BFC1F137684EAB   classic_bike 2023-12-02 23:12:51 2023-12-02 23:21:01   \n",
       "996   EEC92D30A70471E5   classic_bike 2023-12-14 13:43:14 2023-12-14 13:44:14   \n",
       "1322  1C33464DEEB1F23C  electric_bike 2023-12-04 11:57:04 2023-12-04 12:13:59   \n",
       "1347  E0A61810C305E5EC   classic_bike 2023-12-04 09:34:22 2023-12-04 09:35:56   \n",
       "1348  0706CEB2E1924F3D   classic_bike 2023-12-04 09:36:27 2023-12-04 09:36:40   \n",
       "\n",
       "     member_casual  hour       day  date     month  year  \n",
       "189         member    23  Saturday     2  December  2023  \n",
       "996         casual    13  Thursday    14  December  2023  \n",
       "1322        casual    11    Monday     4  December  2023  \n",
       "1347        casual     9    Monday     4  December  2023  \n",
       "1348        casual     9    Monday     4  December  2023  "
      ]
     },
     "metadata": {},
     "output_type": "display_data"
    }
   ],
   "source": [
    "df['hour'] = df['started_at'].dt.hour # Toextract the hour\n",
    "df['day'] = df['started_at'].dt.day_name() # Toextract the day of the week\n",
    "df['date'] = df['started_at'].dt.day #To extract the date\n",
    "df['month'] = df['started_at'].dt.month_name() # To extract the month\n",
    "df['year'] = df['started_at'].dt.year #To extract the year\n",
    "\n",
    "\n",
    "df.head()"
   ]
  },
  {
   "cell_type": "markdown",
   "metadata": {},
   "source": [
    "### 1.7 Check the order of the day, month"
   ]
  },
  {
   "cell_type": "code",
   "execution_count": null,
   "metadata": {},
   "outputs": [
    {
     "data": {
      "text/plain": [
       "member_casual  day      \n",
       "casual         Friday       226254\n",
       "               Monday       179862\n",
       "               Saturday     320126\n",
       "               Sunday       266857\n",
       "               Thursday     185330\n",
       "               Tuesday      162466\n",
       "               Wednesday    189189\n",
       "member         Friday       386510\n",
       "               Monday       395210\n",
       "               Saturday     339014\n",
       "               Sunday       297296\n",
       "               Thursday     422869\n",
       "               Tuesday      420348\n",
       "               Wednesday    453391\n",
       "Name: ride_id, dtype: int64"
      ]
     },
     "metadata": {},
     "output_type": "display_data"
    }
   ],
   "source": [
    "df.groupby(['member_casual', 'day'])['ride_id'].count() # Check order for the day"
   ]
  },
  {
   "cell_type": "markdown",
   "metadata": {},
   "source": [
    "### 1.8. Check the order of the day, month"
   ]
  },
  {
   "cell_type": "code",
   "execution_count": null,
   "metadata": {},
   "outputs": [
    {
     "data": {
      "text/plain": [
       "member_casual  day      \n",
       "casual         Friday       226254\n",
       "               Monday       179862\n",
       "               Saturday     320126\n",
       "               Sunday       266857\n",
       "               Thursday     185330\n",
       "               Tuesday      162466\n",
       "               Wednesday    189189\n",
       "member         Friday       386510\n",
       "               Monday       395210\n",
       "               Saturday     339014\n",
       "               Sunday       297296\n",
       "               Thursday     422869\n",
       "               Tuesday      420348\n",
       "               Wednesday    453391\n",
       "Name: ride_id, dtype: int64"
      ]
     },
     "metadata": {},
     "output_type": "display_data"
    }
   ],
   "source": [
    "df.groupby(['member_casual', 'day'])['ride_id'].count() # Check order for the day"
   ]
  },
  {
   "cell_type": "markdown",
   "metadata": {},
   "source": [
    "The days are not arranged in the order that we want, so we have to arrange them"
   ]
  },
  {
   "cell_type": "code",
   "execution_count": null,
   "metadata": {},
   "outputs": [
    {
     "name": "stderr",
     "output_type": "stream",
     "text": [
      "C:\\Users\\mk\\AppData\\Local\\Temp\\ipykernel_10956\\3152813243.py:4: FutureWarning: The default of observed=False is deprecated and will be changed to True in a future version of pandas. Pass observed=False to retain current behavior or observed=True to adopt the future default and silence this warning.\n",
      "  df.groupby(['member_casual', 'day'])['ride_id'].count()\n"
     ]
    },
    {
     "data": {
      "text/plain": [
       "member_casual  day      \n",
       "casual         Monday       179862\n",
       "               Tuesday      162466\n",
       "               Wednesday    189189\n",
       "               Thursday     185330\n",
       "               Friday       226254\n",
       "               Saturday     320126\n",
       "               Sunday       266857\n",
       "member         Monday       395210\n",
       "               Tuesday      420348\n",
       "               Wednesday    453391\n",
       "               Thursday     422869\n",
       "               Friday       386510\n",
       "               Saturday     339014\n",
       "               Sunday       297296\n",
       "Name: ride_id, dtype: int64"
      ]
     },
     "metadata": {},
     "output_type": "display_data"
    }
   ],
   "source": [
    "day_ordered = ['Monday', 'Tuesday', 'Wednesday', 'Thursday', 'Friday', 'Saturday', 'Sunday']\n",
    "\n",
    "df['day'] = pd.Categorical(df['day'], categories=day_ordered, ordered=True)\n",
    "df.groupby(['member_casual', 'day'])['ride_id'].count() "
   ]
  },
  {
   "cell_type": "markdown",
   "metadata": {},
   "source": [
    "The days are now ordered accordingly as we want, which is Monday - Friday."
   ]
  },
  {
   "cell_type": "code",
   "execution_count": null,
   "metadata": {},
   "outputs": [
    {
     "data": {
      "text/plain": [
       "member_casual  month    \n",
       "casual         April         93944\n",
       "               August       228518\n",
       "               December      36686\n",
       "               February      38170\n",
       "               January       17713\n",
       "               July         231970\n",
       "               June         208397\n",
       "               March         62821\n",
       "               May          167552\n",
       "               November      68816\n",
       "               October      159354\n",
       "               September    216143\n",
       "member         April        203854\n",
       "               August       312805\n",
       "               December     130457\n",
       "               February     146566\n",
       "               January       96095\n",
       "               July         308971\n",
       "               June         285945\n",
       "               March        167457\n",
       "               May          274737\n",
       "               November     177135\n",
       "               October      289762\n",
       "               September    320854\n",
       "Name: ride_id, dtype: int64"
      ]
     },
     "metadata": {},
     "output_type": "display_data"
    }
   ],
   "source": [
    "# Now we repeat for the month\n",
    "\n",
    "df.groupby(['member_casual', 'month'])['ride_id'].count() # Check order for the month"
   ]
  },
  {
   "cell_type": "markdown",
   "metadata": {},
   "source": [
    "The months are not arranged in the order that we want, so we have to arrange them."
   ]
  },
  {
   "cell_type": "code",
   "execution_count": null,
   "metadata": {},
   "outputs": [
    {
     "name": "stderr",
     "output_type": "stream",
     "text": [
      "C:\\Users\\mk\\AppData\\Local\\Temp\\ipykernel_10956\\195444796.py:7: FutureWarning: The default of observed=False is deprecated and will be changed to True in a future version of pandas. Pass observed=False to retain current behavior or observed=True to adopt the future default and silence this warning.\n",
      "  df.groupby(['member_casual', 'month'])['ride_id'].count()\n"
     ]
    },
    {
     "data": {
      "text/plain": [
       "member_casual  month    \n",
       "casual         January       17713\n",
       "               February      38170\n",
       "               March         62821\n",
       "               April         93944\n",
       "               May          167552\n",
       "               June         208397\n",
       "               July         231970\n",
       "               August       228518\n",
       "               September    216143\n",
       "               October      159354\n",
       "               November      68816\n",
       "               December      36686\n",
       "member         January       96095\n",
       "               February     146566\n",
       "               March        167457\n",
       "               April        203854\n",
       "               May          274737\n",
       "               June         285945\n",
       "               July         308971\n",
       "               August       312805\n",
       "               September    320854\n",
       "               October      289762\n",
       "               November     177135\n",
       "               December     130457\n",
       "Name: ride_id, dtype: int64"
      ]
     },
     "metadata": {},
     "output_type": "display_data"
    }
   ],
   "source": [
    "# Arrange the month\n",
    "\n",
    "month_ordered = ['January', 'February', 'March', 'April', 'May', 'June', 'July', 'August', 'September', 'October',\n",
    "               'November', 'December']\n",
    "\n",
    "df['month'] = pd.Categorical(df['month'], categories=month_ordered, ordered=True)\n",
    "df.groupby(['member_casual', 'month'])['ride_id'].count() "
   ]
  },
  {
   "cell_type": "markdown",
   "metadata": {},
   "source": [
    "Perfect! The months are now arranged as wanted, which is January - December."
   ]
  },
  {
   "cell_type": "markdown",
   "metadata": {},
   "source": [
    "### 1.9. Create new column that calculate the duration of each ride"
   ]
  },
  {
   "cell_type": "code",
   "execution_count": null,
   "metadata": {},
   "outputs": [
    {
     "data": {
      "text/html": [
       "<div>\n",
       "<style scoped>\n",
       "    .dataframe tbody tr th:only-of-type {\n",
       "        vertical-align: middle;\n",
       "    }\n",
       "\n",
       "    .dataframe tbody tr th {\n",
       "        vertical-align: top;\n",
       "    }\n",
       "\n",
       "    .dataframe thead th {\n",
       "        text-align: right;\n",
       "    }\n",
       "</style>\n",
       "<table border=\"1\" class=\"dataframe\">\n",
       "  <thead>\n",
       "    <tr style=\"text-align: right;\">\n",
       "      <th></th>\n",
       "      <th>ride_id</th>\n",
       "      <th>rideable_type</th>\n",
       "      <th>started_at</th>\n",
       "      <th>ended_at</th>\n",
       "      <th>member_casual</th>\n",
       "      <th>hour</th>\n",
       "      <th>day</th>\n",
       "      <th>date</th>\n",
       "      <th>month</th>\n",
       "      <th>year</th>\n",
       "      <th>ride_duration</th>\n",
       "    </tr>\n",
       "  </thead>\n",
       "  <tbody>\n",
       "    <tr>\n",
       "      <th>189</th>\n",
       "      <td>84BFC1F137684EAB</td>\n",
       "      <td>classic_bike</td>\n",
       "      <td>2023-12-02 23:12:51</td>\n",
       "      <td>2023-12-02 23:21:01</td>\n",
       "      <td>member</td>\n",
       "      <td>23</td>\n",
       "      <td>Saturday</td>\n",
       "      <td>2</td>\n",
       "      <td>December</td>\n",
       "      <td>2023</td>\n",
       "      <td>8.166667</td>\n",
       "    </tr>\n",
       "    <tr>\n",
       "      <th>996</th>\n",
       "      <td>EEC92D30A70471E5</td>\n",
       "      <td>classic_bike</td>\n",
       "      <td>2023-12-14 13:43:14</td>\n",
       "      <td>2023-12-14 13:44:14</td>\n",
       "      <td>casual</td>\n",
       "      <td>13</td>\n",
       "      <td>Thursday</td>\n",
       "      <td>14</td>\n",
       "      <td>December</td>\n",
       "      <td>2023</td>\n",
       "      <td>1.000000</td>\n",
       "    </tr>\n",
       "    <tr>\n",
       "      <th>1322</th>\n",
       "      <td>1C33464DEEB1F23C</td>\n",
       "      <td>electric_bike</td>\n",
       "      <td>2023-12-04 11:57:04</td>\n",
       "      <td>2023-12-04 12:13:59</td>\n",
       "      <td>casual</td>\n",
       "      <td>11</td>\n",
       "      <td>Monday</td>\n",
       "      <td>4</td>\n",
       "      <td>December</td>\n",
       "      <td>2023</td>\n",
       "      <td>16.916667</td>\n",
       "    </tr>\n",
       "    <tr>\n",
       "      <th>1347</th>\n",
       "      <td>E0A61810C305E5EC</td>\n",
       "      <td>classic_bike</td>\n",
       "      <td>2023-12-04 09:34:22</td>\n",
       "      <td>2023-12-04 09:35:56</td>\n",
       "      <td>casual</td>\n",
       "      <td>9</td>\n",
       "      <td>Monday</td>\n",
       "      <td>4</td>\n",
       "      <td>December</td>\n",
       "      <td>2023</td>\n",
       "      <td>1.566667</td>\n",
       "    </tr>\n",
       "    <tr>\n",
       "      <th>1348</th>\n",
       "      <td>0706CEB2E1924F3D</td>\n",
       "      <td>classic_bike</td>\n",
       "      <td>2023-12-04 09:36:27</td>\n",
       "      <td>2023-12-04 09:36:40</td>\n",
       "      <td>casual</td>\n",
       "      <td>9</td>\n",
       "      <td>Monday</td>\n",
       "      <td>4</td>\n",
       "      <td>December</td>\n",
       "      <td>2023</td>\n",
       "      <td>0.216667</td>\n",
       "    </tr>\n",
       "  </tbody>\n",
       "</table>\n",
       "</div>"
      ],
      "text/plain": [
       "               ride_id  rideable_type          started_at            ended_at  \\\n",
       "189   84BFC1F137684EAB   classic_bike 2023-12-02 23:12:51 2023-12-02 23:21:01   \n",
       "996   EEC92D30A70471E5   classic_bike 2023-12-14 13:43:14 2023-12-14 13:44:14   \n",
       "1322  1C33464DEEB1F23C  electric_bike 2023-12-04 11:57:04 2023-12-04 12:13:59   \n",
       "1347  E0A61810C305E5EC   classic_bike 2023-12-04 09:34:22 2023-12-04 09:35:56   \n",
       "1348  0706CEB2E1924F3D   classic_bike 2023-12-04 09:36:27 2023-12-04 09:36:40   \n",
       "\n",
       "     member_casual  hour       day  date     month  year  ride_duration  \n",
       "189         member    23  Saturday     2  December  2023       8.166667  \n",
       "996         casual    13  Thursday    14  December  2023       1.000000  \n",
       "1322        casual    11    Monday     4  December  2023      16.916667  \n",
       "1347        casual     9    Monday     4  December  2023       1.566667  \n",
       "1348        casual     9    Monday     4  December  2023       0.216667  "
      ]
     },
     "metadata": {},
     "output_type": "display_data"
    }
   ],
   "source": [
    "df['ride_duration'] = (df['ended_at'] - df['started_at'])/ pd.Timedelta(minutes=1) \n",
    "#Express the ride duration in terms of only minutes , and not minutes and seconds\n",
    "\n",
    "df.head()"
   ]
  },
  {
   "cell_type": "markdown",
   "metadata": {},
   "source": [
    "### 1.10. Verify if there are negative values for the duration of ride, which is not logical"
   ]
  },
  {
   "cell_type": "code",
   "execution_count": null,
   "metadata": {},
   "outputs": [
    {
     "data": {
      "text/plain": [
       "ride_id          44\n",
       "rideable_type    44\n",
       "started_at       44\n",
       "ended_at         44\n",
       "member_casual    44\n",
       "hour             44\n",
       "day              44\n",
       "date             44\n",
       "month            44\n",
       "year             44\n",
       "ride_duration    44\n",
       "dtype: int64"
      ]
     },
     "metadata": {},
     "output_type": "display_data"
    }
   ],
   "source": [
    "df[df['ride_duration'] < 0].count()"
   ]
  },
  {
   "cell_type": "markdown",
   "metadata": {},
   "source": [
    "Apparently there are 166 rides with negative durations which are not logical, so we have to delete them."
   ]
  },
  {
   "cell_type": "code",
   "execution_count": null,
   "metadata": {},
   "outputs": [
    {
     "data": {
      "text/plain": [
       "ride_id          0\n",
       "rideable_type    0\n",
       "started_at       0\n",
       "ended_at         0\n",
       "member_casual    0\n",
       "hour             0\n",
       "day              0\n",
       "date             0\n",
       "month            0\n",
       "year             0\n",
       "ride_duration    0\n",
       "dtype: int64"
      ]
     },
     "metadata": {},
     "output_type": "display_data"
    }
   ],
   "source": [
    "df = df[df['ride_duration'] > 0] # Remove the rows\n",
    "df[df['ride_duration'] < 0].count() # Verify"
   ]
  },
  {
   "cell_type": "markdown",
   "metadata": {},
   "source": [
    "We reconfirmed now that the rides with negative durations have been succesfully ommitted."
   ]
  },
  {
   "cell_type": "code",
   "execution_count": null,
   "metadata": {},
   "outputs": [
    {
     "data": {
      "text/html": [
       "<div>\n",
       "<style scoped>\n",
       "    .dataframe tbody tr th:only-of-type {\n",
       "        vertical-align: middle;\n",
       "    }\n",
       "\n",
       "    .dataframe tbody tr th {\n",
       "        vertical-align: top;\n",
       "    }\n",
       "\n",
       "    .dataframe thead th {\n",
       "        text-align: right;\n",
       "    }\n",
       "</style>\n",
       "<table border=\"1\" class=\"dataframe\">\n",
       "  <thead>\n",
       "    <tr style=\"text-align: right;\">\n",
       "      <th></th>\n",
       "      <th>ride_id</th>\n",
       "      <th>rideable_type</th>\n",
       "      <th>started_at</th>\n",
       "      <th>ended_at</th>\n",
       "      <th>member_casual</th>\n",
       "      <th>hour</th>\n",
       "      <th>day</th>\n",
       "      <th>date</th>\n",
       "      <th>month</th>\n",
       "      <th>year</th>\n",
       "      <th>ride_duration</th>\n",
       "    </tr>\n",
       "  </thead>\n",
       "  <tbody>\n",
       "    <tr>\n",
       "      <th>5820442</th>\n",
       "      <td>CF11AD1AA5499FD6</td>\n",
       "      <td>classic_bike</td>\n",
       "      <td>2024-11-03 01:57:59.221</td>\n",
       "      <td>2024-11-03 01:02:33.679</td>\n",
       "      <td>member</td>\n",
       "      <td>1</td>\n",
       "      <td>Sunday</td>\n",
       "      <td>3</td>\n",
       "      <td>November</td>\n",
       "      <td>2024</td>\n",
       "      <td>-55.425700</td>\n",
       "    </tr>\n",
       "    <tr>\n",
       "      <th>5621638</th>\n",
       "      <td>F600DA96D6308ABF</td>\n",
       "      <td>electric_bike</td>\n",
       "      <td>2024-11-03 01:55:22.919</td>\n",
       "      <td>2024-11-03 01:00:36.080</td>\n",
       "      <td>casual</td>\n",
       "      <td>1</td>\n",
       "      <td>Sunday</td>\n",
       "      <td>3</td>\n",
       "      <td>November</td>\n",
       "      <td>2024</td>\n",
       "      <td>-54.780650</td>\n",
       "    </tr>\n",
       "    <tr>\n",
       "      <th>5632045</th>\n",
       "      <td>BB4F8E728A4714E3</td>\n",
       "      <td>classic_bike</td>\n",
       "      <td>2024-11-03 01:55:10.885</td>\n",
       "      <td>2024-11-03 01:02:13.083</td>\n",
       "      <td>casual</td>\n",
       "      <td>1</td>\n",
       "      <td>Sunday</td>\n",
       "      <td>3</td>\n",
       "      <td>November</td>\n",
       "      <td>2024</td>\n",
       "      <td>-52.963367</td>\n",
       "    </tr>\n",
       "    <tr>\n",
       "      <th>5848502</th>\n",
       "      <td>6E973218589BD118</td>\n",
       "      <td>classic_bike</td>\n",
       "      <td>2024-11-03 01:55:58.187</td>\n",
       "      <td>2024-11-03 01:03:34.688</td>\n",
       "      <td>member</td>\n",
       "      <td>1</td>\n",
       "      <td>Sunday</td>\n",
       "      <td>3</td>\n",
       "      <td>November</td>\n",
       "      <td>2024</td>\n",
       "      <td>-52.391650</td>\n",
       "    </tr>\n",
       "    <tr>\n",
       "      <th>5773991</th>\n",
       "      <td>C2D0EA867C94CB05</td>\n",
       "      <td>electric_bike</td>\n",
       "      <td>2024-11-03 01:57:10.166</td>\n",
       "      <td>2024-11-03 01:05:39.411</td>\n",
       "      <td>member</td>\n",
       "      <td>1</td>\n",
       "      <td>Sunday</td>\n",
       "      <td>3</td>\n",
       "      <td>November</td>\n",
       "      <td>2024</td>\n",
       "      <td>-51.512583</td>\n",
       "    </tr>\n",
       "  </tbody>\n",
       "</table>\n",
       "</div>"
      ],
      "text/plain": [
       "                  ride_id  rideable_type              started_at  \\\n",
       "5820442  CF11AD1AA5499FD6   classic_bike 2024-11-03 01:57:59.221   \n",
       "5621638  F600DA96D6308ABF  electric_bike 2024-11-03 01:55:22.919   \n",
       "5632045  BB4F8E728A4714E3   classic_bike 2024-11-03 01:55:10.885   \n",
       "5848502  6E973218589BD118   classic_bike 2024-11-03 01:55:58.187   \n",
       "5773991  C2D0EA867C94CB05  electric_bike 2024-11-03 01:57:10.166   \n",
       "\n",
       "                       ended_at member_casual  hour     day  date     month  \\\n",
       "5820442 2024-11-03 01:02:33.679        member     1  Sunday     3  November   \n",
       "5621638 2024-11-03 01:00:36.080        casual     1  Sunday     3  November   \n",
       "5632045 2024-11-03 01:02:13.083        casual     1  Sunday     3  November   \n",
       "5848502 2024-11-03 01:03:34.688        member     1  Sunday     3  November   \n",
       "5773991 2024-11-03 01:05:39.411        member     1  Sunday     3  November   \n",
       "\n",
       "         year  ride_duration  \n",
       "5820442  2024     -55.425700  \n",
       "5621638  2024     -54.780650  \n",
       "5632045  2024     -52.963367  \n",
       "5848502  2024     -52.391650  \n",
       "5773991  2024     -51.512583  "
      ]
     },
     "metadata": {},
     "output_type": "display_data"
    }
   ],
   "source": [
    "df.sort_values(by = ['ride_duration'], ascending = True).head()"
   ]
  },
  {
   "cell_type": "markdown",
   "metadata": {},
   "source": [
    "We can also verify by sorting the duration ascendingly, then identify whether the smallest value is positive.\n",
    "\n",
    "We can see that the shortest duration which is 0.167 minute is positive, therefore all the negative values have been deleted succesfully."
   ]
  }
 ],
 "metadata": {
  "kernelspec": {
   "display_name": "Python 3",
   "language": "python",
   "name": "python3"
  },
  "language_info": {
   "codemirror_mode": {
    "name": "ipython",
    "version": 3
   },
   "file_extension": ".py",
   "mimetype": "text/x-python",
   "name": "python",
   "nbconvert_exporter": "python",
   "pygments_lexer": "ipython3",
   "version": "3.12.8"
  }
 },
 "nbformat": 4,
 "nbformat_minor": 2
}
